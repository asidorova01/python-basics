{
 "cells": [
  {
   "cell_type": "markdown",
   "metadata": {},
   "source": [
    "**Задание 1**. Даны 2 строки: *long_phrase* и *short_phrase*. \n",
    "Напишите код, который проверяет действительно ли длинная фраза *long_phrase* длиннее короткой *short_phrase*. И выводит *True* или *False* в зависимости от результата сравнения."
   ]
  },
  {
   "cell_type": "code",
   "execution_count": null,
   "metadata": {},
   "outputs": [],
   "source": [
    "long_phrase = 'Насколько проще было бы писать программы, если бы не заказчики'\n",
    "short_phrase = '640Кб должно хватить для любых задач. Билл Гейтс (по легенде)'"
   ]
  },
  {
   "cell_type": "code",
   "execution_count": 2,
   "metadata": {},
   "outputs": [
    {
     "data": {
      "text/plain": [
       "False"
      ]
     },
     "execution_count": 2,
     "metadata": {},
     "output_type": "execute_result"
    }
   ],
   "source": [
    "len('long_phrase') > len('short_phrase')"
   ]
  },
  {
   "cell_type": "markdown",
   "metadata": {},
   "source": [
    "**Задание 2**. Дано значение объема файла в байтах. Напишите перевод этого значения в мегабайты в формате: \"*Объем файла равен 213.68Mb*\""
   ]
  },
  {
   "cell_type": "code",
   "execution_count": 10,
   "metadata": {},
   "outputs": [
    {
     "name": "stdout",
     "output_type": "stream",
     "text": [
      " Введите объем файла в байтах368724\n",
      "Объем файла равен  360.08 Mb\n"
     ]
    }
   ],
   "source": [
    "user_input = input('Введите объем файла в байтах')\n",
    "a = float(user_input)\n",
    "print('Объем файла равен ', round((a / (2 ** 10)), 2), 'Mb')"
   ]
  },
  {
   "cell_type": "markdown",
   "metadata": {},
   "source": [
    "**Задание 3**. Разработать приложение для определения знака зодиака по дате рождения. Пример:\n",
    "\n",
    "Введите месяц: март\n",
    "\n",
    "Введите число: 6\n",
    "\n",
    "Вывод:\n",
    "Рыбы"
   ]
  },
  {
   "cell_type": "code",
   "execution_count": 19,
   "metadata": {},
   "outputs": [
    {
     "name": "stdout",
     "output_type": "stream",
     "text": [
      "Введите месяц: февраль\n",
      "Введите число: 30\n",
      "Введены неверные данные! Пишите с маленькой буквы :)\n"
     ]
    }
   ],
   "source": [
    "month = input('Введите месяц: ')\n",
    "day = int(input('Введите число: '))\n",
    "\n",
    "if (month == 'март' and day >= 21 and day <= 31) or (month == 'апрель' and day >= 1 and day <= 20):\n",
    "                                                     print('Вы – Овен')\n",
    "elif (month == 'апрель' and day >= 21 and day <= 30) or (month == 'май' and day >= 1 and day <= 20):\n",
    "                                                     print('Вы – Телец')\n",
    "elif (month == 'май' and day >= 21 and day <= 31) or (month == 'июнь' and day >= 1 and day <= 21):\n",
    "                                                     print('Вы – Близнецы')   \n",
    "elif (month == 'июнь' and day >= 22 and day <= 30) or (month == 'июль' and day >= 1 and day <= 22):\n",
    "                                                     print('Вы – Рак')\n",
    "elif (month == 'июль' and day >= 23 and day <= 31) or (month == 'август' and day >= 1 and day <= 23):\n",
    "                                                     print('Вы – Лев')\n",
    "elif (month == 'август' and day >= 24 and day <= 31) or (month == 'сентябрь' and day >= 1 and day <= 23):\n",
    "                                                     print('Вы – Дева')\n",
    "elif (month == 'сентябрь' and day >= 24 and day <= 30) or (month == 'июнь' and day >= 1 and day <= 23):\n",
    "                                                     print('Вы – Весы') \n",
    "elif (month == 'октябрь' and day >= 24 and day <= 31) or (month == 'ноябрь' and day >= 1 and day <= 22):\n",
    "                                                     print('Вы – Скорпион')\n",
    "elif (month == 'ноябрь' and day >= 23 and day <= 30) or (month == 'декабря' and day >= 1 and day <= 21):\n",
    "                                                     print('Вы – Стрелец')\n",
    "elif (month == 'декабрь' and day >= 22 and day <= 31) or (month == 'январь' and day >= 1 and day <= 20):\n",
    "                                                     print('Вы – Козерог')\n",
    "elif (month == 'январь' and day >= 21 and day <= 31) or (month == 'февраль' and day >= 1 and day <= 20):\n",
    "                                                     print('Вы – Водолей')\n",
    "elif (month == 'февраль' and day >= 21 and day <= 29) or (month == 'март' and day >= 1 and day <= 20):\n",
    "                                                     print('Вы – Рыбы')   \n",
    "\n",
    "else:\n",
    "    print('Введены неверные данные! Пишите с маленькой буквы и учитывайте кол-во дней в месяце :)')"
   ]
  },
  {
   "cell_type": "markdown",
   "metadata": {},
   "source": [
    "**Задание 4**. Нужно разработать приложение для финансового планирования.\n",
    "Приложение учитывает сколько уходит на ипотеку, \"на жизнь\" и сколько нужно отложить на пенсию.\n",
    "Пользователь вводит:\n",
    "- заработанную плату в месяц.\n",
    "- сколько процентов от ЗП уходит на ипотеку.\n",
    "- сколько процентов от ЗП уходит \"на жизнь\".\n",
    "- сколько раз приходит премия в год.\n",
    "\n",
    "Остальная часть заработанной платы откладывается на пенсию.\n",
    "\n",
    "Также пользователю приходит премия в размере зарплаты, от которой половина уходит на отпуск, а вторая половина откладывается.\n",
    "\n",
    "Программа должна учитывать сколько премий было в год.\n",
    "\n",
    "Нужно вывести сколько денег тратит пользователь на ипотеку и сколько он накопит за год.\n",
    "\n",
    "Пример:\n",
    "\n",
    "Введите заработанную плату в месяц: 100000\n",
    "\n",
    "Введите сколько процентов уходит на ипотеку: 30\n",
    "\n",
    "Введите сколько процентов уходит на жизнь: 50\n",
    "\n",
    "Введите количество премий за год: 2\n",
    "\n",
    "Вывод:\n",
    "На ипотеку было потрачено: 360000 рублей\n",
    "Было накоплено: 340000 рублей"
   ]
  },
  {
   "cell_type": "code",
   "execution_count": 11,
   "metadata": {},
   "outputs": [
    {
     "name": "stdout",
     "output_type": "stream",
     "text": [
      "Введите заработную плату в месяц: 100000\n",
      "Введите сколько процентов уходит на ипотеку: 30\n",
      "Введите сколько процентов уходит на жизнь: 50\n",
      "Введите количество премий за год: 2\n",
      "На ипотеку было потрачено:  360000  рублей. Было накоплено:  340000  рублей\n"
     ]
    }
   ],
   "source": [
    "salary = int(input('Введите заработную плату в месяц: '))\n",
    "mortgage = int(input('Введите сколько процентов уходит на ипотеку: '))\n",
    "needs = int(input('Введите сколько процентов уходит на жизнь: '))\n",
    "bonus_no = int(input('Введите количество премий за год: '))\n",
    "\n",
    "mort_pay = int(12 * salary * mortgage / 100)\n",
    "needs_pay = int(12 * salary * needs / 100)\n",
    "bonus_save = int(bonus_no * salary / 2)\n",
    "savings = int(12 * salary - mort_pay - needs_pay + bonus_save)\n",
    "\n",
    "print('На ипотеку было потрачено: ', mort_pay, ' рублей. Было накоплено: ', 340000, ' рублей')\n",
    "\n"
   ]
  },
  {
   "cell_type": "code",
   "execution_count": null,
   "metadata": {},
   "outputs": [],
   "source": []
  }
 ],
 "metadata": {
  "kernelspec": {
   "display_name": "Python 3",
   "language": "python",
   "name": "python3"
  },
  "language_info": {
   "codemirror_mode": {
    "name": "ipython",
    "version": 3
   },
   "file_extension": ".py",
   "mimetype": "text/x-python",
   "name": "python",
   "nbconvert_exporter": "python",
   "pygments_lexer": "ipython3",
   "version": "3.7.4"
  }
 },
 "nbformat": 4,
 "nbformat_minor": 2
}
